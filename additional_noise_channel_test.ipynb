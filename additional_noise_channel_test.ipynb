{
 "cells": [
  {
   "cell_type": "code",
   "outputs": [],
   "source": [
    "import numpy as np\n",
    "from communication_system import *\n",
    "from deep_receiver import *\n",
    "import pickle"
   ],
   "metadata": {
    "collapsed": false
   }
  },
  {
   "cell_type": "code",
   "outputs": [],
   "source": [
    "# some data about this experiment and the models' parameters\n",
    "var_file = \"model/additional_noise_deep_set.data\"\n",
    "retrain = False\n",
    "\n",
    "moder = {\n",
    "    \"bpsk\": PSKModem(2),\n",
    "    \"qpsk\": PSKModem(4)\n",
    "}\n",
    "\n",
    "ham74 = Hamming74()\n",
    "\n",
    "class DeepSet:\n",
    "    def __init__(self, mod_name, noise):\n",
    "        self.mod = moder[mod_name]\n",
    "        self.mod_name = mod_name\n",
    "        self.noise = noise\n",
    "        self.net = Conv_DenseNet_1D()\n",
    "        self.train_ebr_log = None\n",
    "\n",
    "class NoiseTestLog:\n",
    "    def __init__(self, mod_name, noise):\n",
    "        self.mod_name = mod_name\n",
    "        self.noise = noise\n",
    "        self.new_model_ebr_log = []\n",
    "        self.old_model_ebr_log = []"
   ],
   "metadata": {
    "collapsed": false
   }
  },
  {
   "cell_type": "code",
   "outputs": [],
   "source": [
    "# test1：AWGN channel\n",
    "# generate training set \n",
    "train_set_sample_num =  2 * 1000 * 9\n",
    "data_bits = gen_rand_code(32, train_set_sample_num)\n",
    "deep_set = None\n",
    "\n",
    "\n",
    "# train the model or load the model from the files.\n",
    "\n",
    "if not os.path.exists(var_file) or retrain:\n",
    "    print(\"need to train nets\")\n",
    "    deep_set = [\n",
    "        DeepSet(\"bpsk\", 'awgn'),\n",
    "        DeepSet(\"qpsk\",'awgn'),\n",
    "        DeepSet(\"bpsk\", 'aggn'),\n",
    "        DeepSet(\"qpsk\", 'aggn')\n",
    "    ]\n",
    "    \n",
    "    \n",
    "    coded_data_bits = ham74.encode(data_bits)\n",
    "    EbN0 = np.arange(9)\n",
    "    for setting in deep_set:\n",
    "        mod_data, _, _ = modulate(coded_data_bits, setting.mod, True)\n",
    "        \n",
    "        # generate noise\n",
    "        SNR = EbN02SNR(EbN0, setting.mod.num_bits_symbol, 8)\n",
    "        \n",
    "        # generate training set\n",
    "        noised_data = []\n",
    "        for mod_data_part, snr in zip(mod_data.reshape([9, len(mod_data)//9, -1]), SNR):\n",
    "            noised_data.append(add_noise(mod_data_part, setting.noise, snr))\n",
    "        noised_data = np.concatenate(noised_data, 0)\n",
    "        train_set = (torch.tensor(noised_data), torch.tensor(data_bits))\n",
    "        \n",
    "        # trian the model\n",
    "        print(f\"net(modulate:{setting.mod}, noise:{setting.noise}) start training\")\n",
    "        setting.train_ebr_log = train(\n",
    "            net = setting.net,\n",
    "            data_set = train_set,\n",
    "            batch_size = 256,\n",
    "            lr = 0.001,\n",
    "            lr_gain = 0.1,\n",
    "            epochs = 8,\n",
    "            steady_epochs = 2,\n",
    "            momentum = 0.9\n",
    "        )\n",
    "        print(f\"net(modulate:{setting.mod}, noise:{setting.noise}) training done\")\n",
    "        \n",
    "    # store the parameter of the trained model. \n",
    "    print(f\"save the data to the file:{var_file}\")\n",
    "    fp = open(var_file, \"wb\")\n",
    "    pickle.dump(deep_set, fp)\n",
    "    fp.close()\n",
    "else:\n",
    "    print(f\"load the net param from the file:{var_file}\")\n",
    "    fp = open(var_file, \"rb\")\n",
    "    deep_set = pickle.load(fp)\n",
    "    fp.close()\n"
   ],
   "metadata": {
    "collapsed": false
   },
   "execution_count": null
  },
  {
   "cell_type": "code",
   "outputs": [],
   "source": [
    "# model is ready, then test it\n",
    "\n",
    "test_set_sample_num =  2 * 1000 * 19\n",
    "data_bits = gen_rand_code(32, train_set_sample_num)\n",
    "\n",
    "coded_data_bits = ham74.encode(data_bits)\n",
    "EbN0 = np.linspace(0, 8, 19)\n",
    "\n",
    "noise_test_logs = []\n",
    "\n",
    "for setting in deep_set:\n",
    "    mod_data, _, _ = modulate(coded_data_bits, setting.mod, True)\n",
    "\n",
    "    # generate noise\n",
    "    SNR = EbN02SNR(EbN0, setting.mod.num_bits_symbol, 8)\n",
    "\n",
    "    # generate testing dataset for every SNR and test the model respectively\n",
    "    noise_test_log = NoiseTestLog(setting.mod_name, setting.noise)\n",
    "    for mod_data_part, snr in zip(mod_data.reshape([len(SNR), len(mod_data)//len(SNR), -1]), SNR):\n",
    "        noised_data = add_noise(mod_data_part, setting.noise, snr)\n",
    "        test_set = (torch.tensor(noised_data), torch.tensor(data_bits))\n",
    "        # test the deep_receiver\n",
    "        deep_net_ebr = run_epoch(setting.net, test_set, 256)\n",
    "        noise_test_log.new_model_ebr_log.append(deep_net_ebr)\n",
    "        # test the traditional receiver\n",
    "        out_put_data = old_receiver(noised_data, setting.mod, ham74)\n",
    "        old_model_ebr = (out_put_data != data_bits).mean()\n",
    "        noise_test_log.old_model_ebr_log.append(old_model_ebr)\n",
    "    noise_test_logs.append(noise_test_log)"
   ],
   "metadata": {
    "collapsed": false
   }
  },
  {
   "cell_type": "code",
   "outputs": [
    {
     "data": {
      "text/plain": "commpy.modulation.PSKModem"
     },
     "execution_count": 4,
     "metadata": {},
     "output_type": "execute_result"
    }
   ],
   "source": [],
   "metadata": {
    "collapsed": false,
    "ExecuteTime": {
     "end_time": "2024-03-18T02:27:04.290558Z",
     "start_time": "2024-03-18T02:27:04.281379Z"
    }
   },
   "execution_count": 4
  }
 ],
 "metadata": {
  "kernelspec": {
   "display_name": "pytorch",
   "language": "python",
   "name": "python3"
  },
  "language_info": {
   "codemirror_mode": {
    "name": "ipython",
    "version": 3
   },
   "file_extension": ".py",
   "mimetype": "text/x-python",
   "name": "python",
   "nbconvert_exporter": "python",
   "pygments_lexer": "ipython3",
   "version": "3.10.13"
  }
 },
 "nbformat": 4,
 "nbformat_minor": 2
}
