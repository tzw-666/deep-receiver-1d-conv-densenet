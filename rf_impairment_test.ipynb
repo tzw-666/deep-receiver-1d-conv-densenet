{
 "cells": [
  {
   "cell_type": "code",
   "execution_count": null,
   "id": "initial_id",
   "metadata": {
    "collapsed": true
   },
   "outputs": [],
   "source": [
    "# carrier frequency shift\n",
    "\n",
    "delta_f = np.random.uniform(-0.01, 0.01, 1000)\n",
    "signal_f_off_data = [add_frequency_offset(signal, 8, 0.01) for signal in signal_data]"
   ]
  },
  {
   "cell_type": "code",
   "outputs": [],
   "source": [
    "# IQ imbalance\n",
    "for i, j in zip(np.arange(12), np.repeat(np.arange(12).reshape([-1, 1]), 3, 1)):\n",
    "    print(i, j)"
   ],
   "metadata": {
    "collapsed": false
   },
   "id": "ca4190b37070d1b4"
  }
 ],
 "metadata": {
  "kernelspec": {
   "display_name": "Python 3",
   "language": "python",
   "name": "python3"
  },
  "language_info": {
   "codemirror_mode": {
    "name": "ipython",
    "version": 2
   },
   "file_extension": ".py",
   "mimetype": "text/x-python",
   "name": "python",
   "nbconvert_exporter": "python",
   "pygments_lexer": "ipython2",
   "version": "2.7.6"
  }
 },
 "nbformat": 4,
 "nbformat_minor": 5
}
