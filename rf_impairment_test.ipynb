{
 "cells": [
  {
   "cell_type": "code",
   "outputs": [],
   "source": [
    "import matplotlib.pyplot as plt\n",
    "\n",
    "from communication_system import *\n",
    "from deep_receiver import *\n",
    "import pickle"
   ],
   "metadata": {
    "collapsed": false
   },
   "id": "7d7fba6750a63277"
  },
  {
   "cell_type": "code",
   "outputs": [],
   "source": [
    "# some data about this experiment and the models' parameters\n",
    "model_file = \"model/additional_noise_deep_set.data\"\n",
    "outcome_file = \"outcome/additional_noise_deep_set.data\"\n",
    "retrain = False\n",
    "\n",
    "moder = {\n",
    "    \"bpsk\": PSKModem(2),\n",
    "    \"qpsk\": PSKModem(4)\n",
    "}\n",
    "\n",
    "ham74 = Hamming74()\n",
    "\n",
    "class DeepSet:\n",
    "    def __init__(self, mod_name, noise):\n",
    "        self.mod = moder[mod_name]\n",
    "        self.mod_name = mod_name\n",
    "        self.noise = noise\n",
    "        self.net = Conv_DenseNet_1D()\n",
    "        self.train_ebr_log = None\n",
    "\n",
    "class NoiseTestLog:\n",
    "    def __init__(self, mod_name, noise):\n",
    "        self.mod_name = mod_name\n",
    "        self.noise = noise\n",
    "        self.new_model_ebr_log = []\n",
    "        self.old_model_ebr_log = []"
   ],
   "metadata": {
    "collapsed": false
   },
   "id": "39c787f24a2efc8a"
  },
  {
   "cell_type": "code",
   "execution_count": null,
   "id": "initial_id",
   "metadata": {
    "collapsed": true
   },
   "outputs": [],
   "source": [
    "# carrier frequency shift\n",
    "\n",
    "delta_f = np.random.uniform(-0.01, 0.01, 1000)\n",
    "signal_f_off_data = [add_frequency_offset(signal, 8, 0.01) for signal in signal_data]"
   ]
  },
  {
   "cell_type": "code",
   "outputs": [],
   "source": [
    "# IQ imbalance\n",
    "for i, j in zip(np.arange(12), np.repeat(np.arange(12).reshape([-1, 1]), 3, 1)):\n",
    "    print(i, j)"
   ],
   "metadata": {
    "collapsed": false
   },
   "id": "ca4190b37070d1b4"
  }
 ],
 "metadata": {
  "kernelspec": {
   "display_name": "Python 3",
   "language": "python",
   "name": "python3"
  },
  "language_info": {
   "codemirror_mode": {
    "name": "ipython",
    "version": 2
   },
   "file_extension": ".py",
   "mimetype": "text/x-python",
   "name": "python",
   "nbconvert_exporter": "python",
   "pygments_lexer": "ipython2",
   "version": "2.7.6"
  }
 },
 "nbformat": 4,
 "nbformat_minor": 5
}
