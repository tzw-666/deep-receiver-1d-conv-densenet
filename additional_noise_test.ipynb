{
 "cells": [
  {
   "cell_type": "code",
   "outputs": [],
   "source": [
    "import torch\n",
    "\n",
    "from communication_system import *\n",
    "from deep_receiver import *\n",
    "import matplotlib.pyplot as plt\n",
    "from commpy.modulation import PSKModem\n",
    "import pickle\n",
    "import os"
   ],
   "metadata": {
    "collapsed": false,
    "ExecuteTime": {
     "end_time": "2024-03-24T06:17:05.353325Z",
     "start_time": "2024-03-24T06:17:05.346061Z"
    }
   },
   "execution_count": 6
  },
  {
   "cell_type": "code",
   "outputs": [],
   "source": [
    "# some data about this experiment and the models' parameters\n",
    "model_file = \"model/additional_noise_deep_set.data\"\n",
    "outcome_file = \"outcome/additional_noise_deep_set.data\"\n",
    "retrain = True\n",
    "\n",
    "moder = {\n",
    "    \"bpsk\": PSKModem(2),\n",
    "    \"qpsk\": PSKModem(4)\n",
    "}\n",
    "\n",
    "ham74 = Hamming74()\n",
    "\n",
    "class DeepSet:\n",
    "    def __init__(self, mod_name, noise):\n",
    "        self.mod = moder[mod_name]\n",
    "        self.mod_name = mod_name\n",
    "        self.noise = noise\n",
    "        self.net = Conv_DenseNet_1D(32)\n",
    "        self.train_ebr_log = None\n",
    "\n",
    "class TestLog:\n",
    "    def __init__(self, mod_name, noise):\n",
    "        self.mod_symbol_bits = moder[mod_name].num_bits_symbol\n",
    "        self.mod_name = mod_name\n",
    "        self.noise = noise\n",
    "        self.new_model_ebr_log = []\n",
    "        self.old_model_ebr_log = []"
   ],
   "metadata": {
    "collapsed": false,
    "ExecuteTime": {
     "end_time": "2024-03-24T06:17:15.539767Z",
     "start_time": "2024-03-24T06:17:15.528817Z"
    }
   },
   "execution_count": 7
  },
  {
   "cell_type": "code",
   "outputs": [
    {
     "name": "stdout",
     "output_type": "stream",
     "text": [
      "need to train nets\n",
      "net(modulate:bpsk, noise:awgn) start training\n",
      "epoch1,ebr:0.4998229146003723\n",
      "epoch2,ebr:0.49961283802986145\n",
      "epoch3,ebr:0.49961283802986145\n",
      "epoch4,ebr:0.49961283802986145\n",
      "epoch5,ebr:0.49941667914390564\n",
      "epoch6,ebr:0.4988940954208374\n",
      "epoch7,ebr:0.4987829923629761\n"
     ]
    },
    {
     "ename": "KeyboardInterrupt",
     "evalue": "",
     "output_type": "error",
     "traceback": [
      "\u001B[1;31m---------------------------------------------------------------------------\u001B[0m",
      "\u001B[1;31mKeyboardInterrupt\u001B[0m                         Traceback (most recent call last)",
      "Cell \u001B[1;32mIn[8], line 40\u001B[0m\n\u001B[0;32m     38\u001B[0m     \u001B[38;5;66;03m# trian the model\u001B[39;00m\n\u001B[0;32m     39\u001B[0m     \u001B[38;5;28mprint\u001B[39m(\u001B[38;5;124mf\u001B[39m\u001B[38;5;124m\"\u001B[39m\u001B[38;5;124mnet(modulate:\u001B[39m\u001B[38;5;132;01m{\u001B[39;00msetting\u001B[38;5;241m.\u001B[39mmod_name\u001B[38;5;132;01m}\u001B[39;00m\u001B[38;5;124m, noise:\u001B[39m\u001B[38;5;132;01m{\u001B[39;00msetting\u001B[38;5;241m.\u001B[39mnoise\u001B[38;5;132;01m}\u001B[39;00m\u001B[38;5;124m) start training\u001B[39m\u001B[38;5;124m\"\u001B[39m)\n\u001B[1;32m---> 40\u001B[0m     setting\u001B[38;5;241m.\u001B[39mtrain_ebr_log \u001B[38;5;241m=\u001B[39m \u001B[43mtrain\u001B[49m\u001B[43m(\u001B[49m\n\u001B[0;32m     41\u001B[0m \u001B[43m        \u001B[49m\u001B[43mnet\u001B[49m\u001B[43m \u001B[49m\u001B[38;5;241;43m=\u001B[39;49m\u001B[43m \u001B[49m\u001B[43msetting\u001B[49m\u001B[38;5;241;43m.\u001B[39;49m\u001B[43mnet\u001B[49m\u001B[43m,\u001B[49m\n\u001B[0;32m     42\u001B[0m \u001B[43m        \u001B[49m\u001B[43mdata_set\u001B[49m\u001B[43m \u001B[49m\u001B[38;5;241;43m=\u001B[39;49m\u001B[43m \u001B[49m\u001B[43mtrain_set\u001B[49m\u001B[43m,\u001B[49m\n\u001B[0;32m     43\u001B[0m \u001B[43m        \u001B[49m\u001B[43mbatch_size\u001B[49m\u001B[43m \u001B[49m\u001B[38;5;241;43m=\u001B[39;49m\u001B[43m \u001B[49m\u001B[38;5;241;43m256\u001B[39;49m\u001B[43m,\u001B[49m\n\u001B[0;32m     44\u001B[0m \u001B[43m        \u001B[49m\u001B[43mlr\u001B[49m\u001B[43m \u001B[49m\u001B[38;5;241;43m=\u001B[39;49m\u001B[43m \u001B[49m\u001B[38;5;241;43m0.01\u001B[39;49m\u001B[43m,\u001B[49m\n\u001B[0;32m     45\u001B[0m \u001B[43m        \u001B[49m\u001B[43mlr_gain\u001B[49m\u001B[43m \u001B[49m\u001B[38;5;241;43m=\u001B[39;49m\u001B[43m \u001B[49m\u001B[38;5;241;43m0.9\u001B[39;49m\u001B[43m,\u001B[49m\n\u001B[0;32m     46\u001B[0m \u001B[43m        \u001B[49m\u001B[43mepochs\u001B[49m\u001B[43m \u001B[49m\u001B[38;5;241;43m=\u001B[39;49m\u001B[43m \u001B[49m\u001B[38;5;241;43m100\u001B[39;49m\u001B[43m,\u001B[49m\n\u001B[0;32m     47\u001B[0m \u001B[43m        \u001B[49m\u001B[43msteady_epochs\u001B[49m\u001B[43m \u001B[49m\u001B[38;5;241;43m=\u001B[39;49m\u001B[43m \u001B[49m\u001B[38;5;241;43m10\u001B[39;49m\u001B[43m,\u001B[49m\n\u001B[0;32m     48\u001B[0m \u001B[43m        \u001B[49m\u001B[43mmomentum\u001B[49m\u001B[43m \u001B[49m\u001B[38;5;241;43m=\u001B[39;49m\u001B[43m \u001B[49m\u001B[38;5;241;43m0.9\u001B[39;49m\n\u001B[0;32m     49\u001B[0m \u001B[43m    \u001B[49m\u001B[43m)\u001B[49m\n\u001B[0;32m     50\u001B[0m     \u001B[38;5;28mprint\u001B[39m(\u001B[38;5;124mf\u001B[39m\u001B[38;5;124m\"\u001B[39m\u001B[38;5;124mnet(modulate:\u001B[39m\u001B[38;5;132;01m{\u001B[39;00msetting\u001B[38;5;241m.\u001B[39mmod_name\u001B[38;5;132;01m}\u001B[39;00m\u001B[38;5;124m, noise:\u001B[39m\u001B[38;5;132;01m{\u001B[39;00msetting\u001B[38;5;241m.\u001B[39mnoise\u001B[38;5;132;01m}\u001B[39;00m\u001B[38;5;124m) training done\u001B[39m\u001B[38;5;124m\"\u001B[39m)\n\u001B[0;32m     52\u001B[0m \u001B[38;5;66;03m# store the parameter of the trained model. \u001B[39;00m\n",
      "File \u001B[1;32mF:\\Project\\DeepReceiver  A Deep Learning-Based Intelligent Receiver for Wireless Communications in the Physical Layer\\code\\deep_receiver.py:176\u001B[0m, in \u001B[0;36mtrain\u001B[1;34m(net, data_set, batch_size, lr, lr_gain, epochs, steady_epochs, momentum)\u001B[0m\n\u001B[0;32m    174\u001B[0m optimizer \u001B[38;5;241m=\u001B[39m torch\u001B[38;5;241m.\u001B[39moptim\u001B[38;5;241m.\u001B[39mSGD(net\u001B[38;5;241m.\u001B[39mparameters(), lr, momentum)\n\u001B[0;32m    175\u001B[0m \u001B[38;5;66;03m# 训练\u001B[39;00m\n\u001B[1;32m--> 176\u001B[0m ebr_train \u001B[38;5;241m=\u001B[39m \u001B[43mrun_epoch\u001B[49m\u001B[43m(\u001B[49m\u001B[43mnet\u001B[49m\u001B[43m,\u001B[49m\u001B[43m \u001B[49m\u001B[43mtrain_set\u001B[49m\u001B[43m,\u001B[49m\u001B[43m \u001B[49m\u001B[43mbatch_size\u001B[49m\u001B[43m,\u001B[49m\u001B[43m \u001B[49m\u001B[43moptimizer\u001B[49m\u001B[43m)\u001B[49m\n\u001B[0;32m    177\u001B[0m train_ebr_log\u001B[38;5;241m.\u001B[39mappend(ebr_train)\n\u001B[0;32m    178\u001B[0m \u001B[38;5;28mprint\u001B[39m(\u001B[38;5;124mf\u001B[39m\u001B[38;5;124m\"\u001B[39m\u001B[38;5;124mepoch\u001B[39m\u001B[38;5;132;01m{\u001B[39;00mepoch\u001B[38;5;241m+\u001B[39m\u001B[38;5;241m1\u001B[39m\u001B[38;5;132;01m}\u001B[39;00m\u001B[38;5;124m,ebr:\u001B[39m\u001B[38;5;132;01m{\u001B[39;00mebr_train\u001B[38;5;132;01m}\u001B[39;00m\u001B[38;5;124m\"\u001B[39m)\n",
      "File \u001B[1;32mF:\\Project\\DeepReceiver  A Deep Learning-Based Intelligent Receiver for Wireless Communications in the Physical Layer\\code\\deep_receiver.py:150\u001B[0m, in \u001B[0;36mrun_epoch\u001B[1;34m(net, data_set, batch_size, optimizer)\u001B[0m\n\u001B[0;32m    148\u001B[0m is_train \u001B[38;5;241m=\u001B[39m optimizer \u001B[38;5;129;01mis\u001B[39;00m \u001B[38;5;129;01mnot\u001B[39;00m \u001B[38;5;28;01mNone\u001B[39;00m\n\u001B[0;32m    149\u001B[0m \u001B[38;5;28;01mfor\u001B[39;00m X, y \u001B[38;5;129;01min\u001B[39;00m load_data(data_set, batch_size, is_train):\n\u001B[1;32m--> 150\u001B[0m     X \u001B[38;5;241m=\u001B[39m \u001B[43mX\u001B[49m\u001B[38;5;241;43m.\u001B[39;49m\u001B[43mto\u001B[49m\u001B[43m(\u001B[49m\u001B[43mnet\u001B[49m\u001B[38;5;241;43m.\u001B[39;49m\u001B[43mdevice\u001B[49m\u001B[43m)\u001B[49m\n\u001B[0;32m    151\u001B[0m     y \u001B[38;5;241m=\u001B[39m y\u001B[38;5;241m.\u001B[39mto(net\u001B[38;5;241m.\u001B[39mdevice)\n\u001B[0;32m    152\u001B[0m     \u001B[38;5;28;01mif\u001B[39;00m is_train:\n",
      "\u001B[1;31mKeyboardInterrupt\u001B[0m: "
     ]
    }
   ],
   "source": [
    "# models training\n",
    "# generate training dataset \n",
    "train_set_sample_num =  200 * 1000 * 9\n",
    "data_bits = gen_rand_code(32, train_set_sample_num)\n",
    "deep_set = None\n",
    "\n",
    "\n",
    "# train the model or load the model from the files.\n",
    "if not os.path.exists(model_file) or retrain:\n",
    "    print(\"need to train nets\")\n",
    "    deep_set = [\n",
    "        DeepSet(\"bpsk\", 'awgn'),\n",
    "        # DeepSet(\"qpsk\",'awgn'),\n",
    "        # DeepSet(\"bpsk\", 'aggn'),\n",
    "        # DeepSet(\"qpsk\", 'aggn')\n",
    "    ]\n",
    "    \n",
    "    \n",
    "    coded_data_bits = ham74.encode(data_bits)\n",
    "    EbN0 = np.arange(9)\n",
    "    for setting in deep_set:\n",
    "        # initialize the model\n",
    "        setting.net.init()\n",
    "        \n",
    "        # modulate\n",
    "        mod_data, _, _ = modulate(coded_data_bits, setting.mod, True)\n",
    "        \n",
    "        # generate noise\n",
    "        SNR = EbN02SNR(EbN0, setting.mod.num_bits_symbol, 8)\n",
    "        \n",
    "        # generate training set\n",
    "        noised_data = []\n",
    "        for mod_data_part, snr in zip(mod_data.reshape([9, len(mod_data)//9, -1]), SNR):\n",
    "            noised_data.append(add_noise(mod_data_part, setting.noise, snr))\n",
    "        noised_data = np.concatenate(noised_data, 0)\n",
    "        train_set = (noised_data, data_bits)\n",
    "        \n",
    "        # trian the model\n",
    "        print(f\"net(modulate:{setting.mod_name}, noise:{setting.noise}) start training\")\n",
    "        setting.train_ebr_log = train(\n",
    "            net = setting.net,\n",
    "            data_set = train_set,\n",
    "            batch_size = 256,\n",
    "            lr = 0.01,\n",
    "            lr_gain = 0.5,\n",
    "            epochs = 10,\n",
    "            steady_epochs = 2,\n",
    "            momentum = 0.9\n",
    "        )\n",
    "        print(f\"net(modulate:{setting.mod_name}, noise:{setting.noise}) training done\")\n",
    "        \n",
    "    # store the parameter of the trained model. \n",
    "    print(f\"save the data to the file:{model_file}\")\n",
    "    fp = open(model_file, \"wb+\")\n",
    "    pickle.dump(deep_set, fp)\n",
    "    fp.close()\n",
    "else:\n",
    "    print(f\"load the net param from the file:{model_file}\")\n",
    "    fp = open(model_file, \"rb\")\n",
    "    deep_set = pickle.load(fp)\n",
    "    fp.close()\n"
   ],
   "metadata": {
    "collapsed": false,
    "ExecuteTime": {
     "end_time": "2024-03-24T06:22:08.001874Z",
     "start_time": "2024-03-24T06:17:17.941351Z"
    }
   },
   "execution_count": 8
  },
  {
   "cell_type": "code",
   "outputs": [
    {
     "name": "stdout",
     "output_type": "stream",
     "text": [
      "(2000, 32) (2000, 448)\n",
      "(2000, 32) (2000, 448)\n",
      "(2000, 32) (2000, 448)\n",
      "(2000, 32) (2000, 448)\n",
      "(2000, 32) (2000, 448)\n",
      "(2000, 32) (2000, 448)\n",
      "(2000, 32) (2000, 448)\n",
      "(2000, 32) (2000, 448)\n",
      "(2000, 32) (2000, 448)\n",
      "(2000, 32) (2000, 448)\n",
      "(2000, 32) (2000, 448)\n",
      "(2000, 32) (2000, 448)\n",
      "(2000, 32) (2000, 448)\n",
      "(2000, 32) (2000, 448)\n",
      "(2000, 32) (2000, 448)\n",
      "(2000, 32) (2000, 448)\n",
      "(2000, 32) (2000, 448)\n",
      "(2000, 32) (2000, 448)\n",
      "(2000, 32) (2000, 448)\n"
     ]
    }
   ],
   "source": [
    "# models are ready, then test them\n",
    "snr_ticks = 19\n",
    "\n",
    "test_set_sample_num =  200 * 1000 * snr_ticks\n",
    "data_bits = gen_rand_code(32, test_set_sample_num)\n",
    "\n",
    "coded_data_bits = ham74.encode(data_bits)\n",
    "EbN0 = np.linspace(0, 8, snr_ticks)\n",
    "\n",
    "test_logs = []\n",
    "\n",
    "for setting in deep_set:\n",
    "    mod_data, _, _ = modulate(coded_data_bits, setting.mod, True)\n",
    "\n",
    "    # generate noise\n",
    "    SNR = EbN02SNR(EbN0, setting.mod.num_bits_symbol, 8)\n",
    "\n",
    "    # generate testing dataset for every SNR and test the model respectively\n",
    "    test_log = TestLog(setting.mod_name, setting.noise)\n",
    "    data_bits_per_snr = data_bits.reshape([len(SNR), len(data_bits)//len(SNR), -1])\n",
    "    mod_data_per_snr = mod_data.reshape([len(SNR), len(mod_data)//len(SNR), -1])\n",
    "    for data_bits_part, mod_data_part, snr in zip(data_bits_per_snr, mod_data_per_snr, SNR):\n",
    "        noised_data = add_noise(mod_data_part, setting.noise, snr)\n",
    "        test_set = (noised_data, data_bits_part)\n",
    "        # test the deep_receiver\n",
    "        print(data_bits_part.shape, mod_data_part.shape)\n",
    "        deep_net_ebr = run_epoch(setting.net, test_set, 1024)\n",
    "        test_log.new_model_ebr_log.append(deep_net_ebr)\n",
    "        # test the traditional receiver\n",
    "        out_put_data = old_receiver(noised_data, setting.mod, ham74)\n",
    "        old_model_ebr = (out_put_data != data_bits_part).mean()\n",
    "        test_log.old_model_ebr_log.append(old_model_ebr)\n",
    "    test_logs.append(test_log)\n",
    "    \n"
   ],
   "metadata": {
    "collapsed": false,
    "ExecuteTime": {
     "end_time": "2024-03-24T06:12:08.777411Z",
     "start_time": "2024-03-24T06:11:32.178564Z"
    }
   },
   "execution_count": 4
  },
  {
   "cell_type": "code",
   "outputs": [
    {
     "data": {
      "text/plain": "<matplotlib.legend.Legend at 0x231f93d2290>"
     },
     "execution_count": 5,
     "metadata": {},
     "output_type": "execute_result"
    },
    {
     "data": {
      "text/plain": "<Figure size 640x480 with 1 Axes>",
      "image/png": "[encoded data removed]"
     },
     "metadata": {},
     "output_type": "display_data"
    }
   ],
   "source": [
    "# the outcome of these testings\n",
    "\n",
    "for test_log in test_logs:\n",
    "    SNR = EbN02SNR(EbN0, test_log.mod_symbol_bits, 8)\n",
    "    plt.plot(\n",
    "        SNR, \n",
    "        np.log10(test_log.old_model_ebr_log),\n",
    "        label=f\"hard_receiver:{test_log.noise}+{test_log.mod_name}\"\n",
    "    )\n",
    "    plt.plot(\n",
    "        SNR, \n",
    "        np.log10(test_log.new_model_ebr_log), \n",
    "        label=f\"deep_receiver:{test_log.noise}+{test_log.mod_name}\"\n",
    "    )\n",
    "plt.legend(loc=\"upper right\")\n"
   ],
   "metadata": {
    "collapsed": false,
    "ExecuteTime": {
     "end_time": "2024-03-24T06:12:33.105242Z",
     "start_time": "2024-03-24T06:12:32.393800Z"
    }
   },
   "execution_count": 5
  },
  {
   "cell_type": "code",
   "outputs": [],
   "source": [],
   "metadata": {
    "collapsed": false
   }
  }
 ],
 "metadata": {
  "kernelspec": {
   "display_name": "pytorch",
   "language": "python",
   "name": "python3"
  },
  "language_info": {
   "codemirror_mode": {
    "name": "ipython",
    "version": 3
   },
   "file_extension": ".py",
   "mimetype": "text/x-python",
   "name": "python",
   "nbconvert_exporter": "python",
   "pygments_lexer": "ipython3",
   "version": "3.10.13"
  }
 },
 "nbformat": 4,
 "nbformat_minor": 2
}
